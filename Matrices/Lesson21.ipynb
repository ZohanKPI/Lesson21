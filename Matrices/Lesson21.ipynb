{
 "cells": [
  {
   "cell_type": "code",
   "execution_count": 1,
   "id": "760fec2d",
   "metadata": {},
   "outputs": [
    {
     "name": "stdout",
     "output_type": "stream",
     "text": [
      "Matrix 1 by default:\n",
      "[1, 2, 3]\n",
      "[4, 5, 6]\n",
      "[7, 8, 9]\n",
      "Matrix 2 by default:\n",
      "[9, 8, 7]\n",
      "[6, 5, 4]\n",
      "[3, 2, 1]\n",
      "After addition:\n",
      "[10, 10, 10]\n",
      "[10, 10, 10]\n",
      "[10, 10, 10]\n",
      "After subtraction:\n",
      "[-8, -6, -4]\n",
      "[-2, 0, 2]\n",
      "[4, 6, 8]\n",
      "After multiplication by 3:\n",
      "[3, 6, 9]\n",
      "[12, 15, 18]\n",
      "[21, 24, 27]\n",
      "After multiplication by matrix 2:\n",
      "[30, 24, 18]\n",
      "[84, 69, 54]\n",
      "[138, 114, 90]\n",
      "After transposition:\n",
      "[1, 4, 7]\n",
      "[2, 5, 8]\n",
      "[3, 6, 9]\n"
     ]
    }
   ],
   "source": [
    "class Matrix:\n",
    "    def __init__(self, lists):\n",
    "        self.matrix = lists\n",
    "    def print_default_matrix(self):\n",
    "        for row in self.matrix:\n",
    "            print(row)\n",
    "    def print_matrix(self, matrix=None):\n",
    "        matrix_to_print = self.matrix if matrix is None else matrix\n",
    "        for row in matrix_to_print:\n",
    "            print(row)\n",
    "    def add(self, other_matrix):\n",
    "        if len(other_matrix.matrix) != len(self.matrix) or len(other_matrix.matrix[0]) != len(self.matrix[0]):\n",
    "            raise ValueError(\"Sizes don't match!\")\n",
    "        result = []\n",
    "        for i in range(len(self.matrix)):\n",
    "            row = []\n",
    "            for j in range(len(self.matrix[0])):\n",
    "                row.append(self.matrix[i][j] + other_matrix.matrix[i][j])\n",
    "            result.append(row)\n",
    "\n",
    "        return Matrix(result)\n",
    "\n",
    "    def subtract(self, other_matrix):\n",
    "        if len(self.matrix) != len(other_matrix.matrix) or len(self.matrix[0]) != len(other_matrix.matrix[0]):\n",
    "            raise ValueError(\"Sizes don't match!\")\n",
    "\n",
    "        result = []\n",
    "        for i in range(len(self.matrix)):\n",
    "            row = []\n",
    "            for j in range(len(self.matrix[0])):\n",
    "                row.append(self.matrix[i][j] - other_matrix.matrix[i][j])\n",
    "            result.append(row)\n",
    "\n",
    "        return Matrix(result)\n",
    "\n",
    "    def multiply_number(self, number):\n",
    "        result = []\n",
    "        for i in range(len(self.matrix)):\n",
    "            row = []\n",
    "            for j in range(len(self.matrix[0])):\n",
    "                row.append(self.matrix[i][j] * number)\n",
    "            result.append(row)\n",
    "\n",
    "        return Matrix(result)\n",
    "\n",
    "    def multiply_matrix(self, other_matrix):\n",
    "        if len(self.matrix[0]) != len(other_matrix.matrix):\n",
    "            raise ValueError(\"Sizes don't match!\")\n",
    "\n",
    "        result = []\n",
    "        for i in range(len(self.matrix)):\n",
    "            row = []\n",
    "            for j in range(len(other_matrix.matrix[0])):\n",
    "                cell = sum([self.matrix[i][k] * other_matrix.matrix[k][j] for k in range(len(self.matrix[0]))])\n",
    "                row.append(cell)\n",
    "            result.append(row)\n",
    "\n",
    "        return Matrix(result)\n",
    "\n",
    "    def transpose(self):\n",
    "        result = [[self.matrix[j][i] for j in range(len(self.matrix))] for i in range(len(self.matrix[0]))]\n",
    "        return Matrix(result)\n",
    "\n",
    "matrix_data1 = [[1, 2, 3], [4, 5, 6], [7, 8, 9]]\n",
    "\n",
    "matrix1 = Matrix(matrix_data1)\n",
    "\n",
    "matrix_data2 = [[9, 8, 7], [6, 5, 4], [3, 2, 1]]\n",
    "\n",
    "matrix2 = Matrix(matrix_data2)\n",
    "\n",
    "print(\"Matrix 1 by default:\")\n",
    "matrix1.print_default_matrix()\n",
    "print(\"Matrix 2 by default:\")\n",
    "matrix2.print_default_matrix()\n",
    "\n",
    "print(\"After addition:\")\n",
    "result = matrix1.add(matrix2)\n",
    "result.print_matrix()\n",
    "\n",
    "print(\"After subtraction:\")\n",
    "result = matrix1.subtract(matrix2)\n",
    "result.print_matrix()\n",
    "\n",
    "print(\"After multiplication by 3:\")\n",
    "result = matrix1.multiply_number(3)\n",
    "result.print_matrix()\n",
    "\n",
    "print(\"After multiplication by matrix 2:\")\n",
    "result = matrix1.multiply_matrix(matrix2)\n",
    "result.print_matrix()\n",
    "\n",
    "print(\"After transposition:\")\n",
    "result = matrix1.transpose()\n",
    "result.print_matrix()"
   ]
  },
  {
   "cell_type": "code",
   "execution_count": 2,
   "id": "012a633f",
   "metadata": {},
   "outputs": [
    {
     "name": "stdout",
     "output_type": "stream",
     "text": [
      "Transformed matrix:\n",
      "[1, 3, 2]\n",
      "[0.0, 1.0, 2.0]\n",
      "[-0.0, 0.0, -6.0]\n"
     ]
    }
   ],
   "source": [
    "matrix = [[4, 2, 0], [1, 3, 2], [-1, 3, 10]]\n",
    "\n",
    "matrix[0], matrix[1] = matrix[1], matrix[0]\n",
    "for i in range(len(matrix[0])):\n",
    "    matrix[1][i] += -4 * matrix[0][i]\n",
    "    matrix[2][i] += matrix[0][i]\n",
    "for i in range(len(matrix[1])):\n",
    "    matrix[1][i] /= -2\n",
    "    matrix[2][i] /= 6\n",
    "matrix[1], matrix[2] = matrix[2], matrix[1]\n",
    "for i in range(len(matrix[1])):\n",
    "    matrix[2][i] += -5 * matrix[1][i]\n",
    "print(\"Transformed matrix:\")\n",
    "for row in matrix:\n",
    "    print(row)"
   ]
  },
  {
   "cell_type": "code",
   "execution_count": 3,
   "id": "cc7ca1c9",
   "metadata": {},
   "outputs": [
    {
     "name": "stdout",
     "output_type": "stream",
     "text": [
      "No numpy, only hardcore!\n"
     ]
    }
   ],
   "source": [
    "print(\"No numpy, only hardcore!\")\n"
   ]
  },
  {
   "cell_type": "code",
   "execution_count": null,
   "id": "a851783b",
   "metadata": {},
   "outputs": [],
   "source": []
  }
 ],
 "metadata": {
  "kernelspec": {
   "display_name": "Python 3 (ipykernel)",
   "language": "python",
   "name": "python3"
  },
  "language_info": {
   "codemirror_mode": {
    "name": "ipython",
    "version": 3
   },
   "file_extension": ".py",
   "mimetype": "text/x-python",
   "name": "python",
   "nbconvert_exporter": "python",
   "pygments_lexer": "ipython3",
   "version": "3.9.7"
  }
 },
 "nbformat": 4,
 "nbformat_minor": 5
}
